{
 "cells": [
  {
   "cell_type": "code",
   "execution_count": 1,
   "metadata": {},
   "outputs": [],
   "source": [
    "import os"
   ]
  },
  {
   "cell_type": "code",
   "execution_count": 2,
   "metadata": {},
   "outputs": [],
   "source": [
    "project_name = 'benchmark_autodl'"
   ]
  },
  {
   "cell_type": "markdown",
   "metadata": {},
   "source": [
    "Creates a project, with project name"
   ]
  },
  {
   "cell_type": "code",
   "execution_count": 3,
   "metadata": {},
   "outputs": [
    {
     "data": {
      "text/plain": [
       "<os._wrap_close at 0x172f5a80908>"
      ]
     },
     "execution_count": 3,
     "metadata": {},
     "output_type": "execute_result"
    }
   ],
   "source": [
    "os.popen('mkdir {}'.format(project_name))"
   ]
  },
  {
   "cell_type": "markdown",
   "metadata": {},
   "source": [
    "Copies the model_script.py to the folder, please give the right path to model_script.py, if you are using from git, you will find it in the folder 'Exemple_AutoDl_project_folder' Attention !!!"
   ]
  },
  {
   "cell_type": "code",
   "execution_count": 4,
   "metadata": {},
   "outputs": [
    {
     "data": {
      "text/plain": [
       "<os._wrap_close at 0x172f5aba908>"
      ]
     },
     "execution_count": 4,
     "metadata": {},
     "output_type": "execute_result"
    }
   ],
   "source": [
    "python_script = os.path.join(\"/\", \"C:\", os.sep, 'Users', \"azizeac\", \"nni\",\n",
    "                                 \"examples\", \"trials\",\n",
    "                                 \"benchmark_deep\", \"model_script.py\")\n",
    "project_directory = os.path.join(os.popen(\"echo %CD%\").read()[:-1], project_name)\n",
    "os.popen('copy {} {}'.format(python_script,project_directory))"
   ]
  },
  {
   "cell_type": "markdown",
   "metadata": {},
   "source": [
    "Creates the search_space.json from the dictionaries"
   ]
  },
  {
   "cell_type": "code",
   "execution_count": 5,
   "metadata": {},
   "outputs": [],
   "source": [
    "import json\n",
    "\n",
    "search_space = {\n",
    "  \"hidden_size\": {\n",
    "    \"_type\": \"choice\",\n",
    "    \"_value\": [ 1000, 750, 500, 250 ]\n",
    "  },\n",
    "  \"lr\": {\n",
    "    \"_type\": \"choice\",\n",
    "    \"_value\": [ 0.0001, 0.001, 0.01, 0.1 ]\n",
    "  },\n",
    "  \"momentum\": {\n",
    "    \"_type\": \"uniform\",\n",
    "    \"_value\": [ 0.8, 1 ]\n",
    "  },\n",
    "  \"ps1\": {\n",
    "    \"_type\": \"uniform\",\n",
    "    \"_value\": [ 0, 0.2 ]\n",
    "  },\n",
    "  \"ps2\": {\n",
    "    \"_type\": \"uniform\",\n",
    "    \"_value\": [ 0, 0.1 ]\n",
    "  },\n",
    "  \"emb_drop\": {\n",
    "    \"_type\": \"uniform\",\n",
    "    \"_value\": [ 0, 0.1 ]\n",
    "  }\n",
    "}\n",
    "\n",
    "\n",
    "with open('search_space.json', 'w') as outfile:\n",
    "    json.dump(search_space, outfile)\n",
    "    os.popen('copy search_space.json {}'.format(project_directory))"
   ]
  },
  {
   "cell_type": "code",
   "execution_count": 6,
   "metadata": {},
   "outputs": [],
   "source": [
    "datasets = ['albert','christine','jasmine','banking','bnp_cardif_claims','home-credit-default-risk','DADGP']\n",
    "targets = ['class','class','class','subscribed','target','TARGET','target']"
   ]
  },
  {
   "cell_type": "markdown",
   "metadata": {},
   "source": [
    "Creates the config.yml file"
   ]
  },
  {
   "cell_type": "code",
   "execution_count": 7,
   "metadata": {},
   "outputs": [],
   "source": [
    "import yaml\n",
    "config_script = os.path.join(\"/\", \"C:\", os.sep, 'Users', \"azizeac\", \"nni\",\n",
    "                                 \"examples\", \"trials\",\n",
    "                                 \"benchmark_deep\", \"config_windows.yml\")\n",
    "with open(config_script) as f:\n",
    "     list_yaml = yaml.load(f, Loader=yaml.FullLoader)\n",
    "\n",
    "data_dir = data_dir_path = os.path.join(\"/\", \"N:\", os.sep, 'Projets01', \"MLBox\", \"AutoML_datasets_for_MLBox\",\n",
    "                                 \"Financial_public_datasets\", \"CA_public_datasets\",\n",
    "                                 \"home-credit-default-risk\",\"application_train.csv\")\n",
    "\n",
    "target = 'TARGET'\n",
    "\n",
    "max_duration = '30mn'\n",
    "maxTrialNumber = '100'\n",
    "tuner = 'TPE'\n",
    "\n",
    "list_yaml['maxExecDuration'] = max_duration\n",
    "list_yaml['tuner']['builtinTunerName'] = tuner\n",
    "list_yaml['trial']['command'] = \"python model_script.py {} {}\".format(data_dir, target)"
   ]
  },
  {
   "cell_type": "code",
   "execution_count": 8,
   "metadata": {},
   "outputs": [],
   "source": [
    "with open(\"config.yml\", \"w\") as f:\n",
    "    yaml.dump(list_yaml, f)\n",
    "    os.popen('copy config.yml {}'.format(project_directory))"
   ]
  },
  {
   "cell_type": "markdown",
   "metadata": {},
   "source": [
    "Starts the experiment !"
   ]
  },
  {
   "cell_type": "code",
   "execution_count": null,
   "metadata": {},
   "outputs": [],
   "source": [
    "stream_start = os.popen('nnictl create --config {} --port 8081'.format(os.path.join(project_directory,\"config.yml\"))).read()"
   ]
  },
  {
   "cell_type": "code",
   "execution_count": 16,
   "metadata": {},
   "outputs": [
    {
     "data": {
      "text/plain": [
       "\"INFO:  expand searchSpacePath: search_space.json to C:\\\\Users\\\\azizeac\\\\notebook\\\\project_2\\\\search_space.json \\nINFO:  expand codeDir: . to C:\\\\Users\\\\azizeac\\\\notebook\\\\project_2\\\\. \\nERROR: Port 8080 is used by another process, please reset the port!\\nYou could use 'nnictl create --help' to get help information\\n\""
      ]
     },
     "execution_count": 16,
     "metadata": {},
     "output_type": "execute_result"
    }
   ],
   "source": [
    "stream_start"
   ]
  },
  {
   "cell_type": "code",
   "execution_count": 13,
   "metadata": {},
   "outputs": [],
   "source": [
    "stream_stop = os.popen('nnictl stop').read()"
   ]
  },
  {
   "cell_type": "code",
   "execution_count": 14,
   "metadata": {},
   "outputs": [
    {
     "data": {
      "text/plain": [
       "'ERROR: There is no experiment running...\\n'"
      ]
     },
     "execution_count": 14,
     "metadata": {},
     "output_type": "execute_result"
    }
   ],
   "source": [
    "stream_stop"
   ]
  },
  {
   "cell_type": "markdown",
   "metadata": {},
   "source": [
    "Retrieve informations about the experiments !"
   ]
  },
  {
   "cell_type": "code",
   "execution_count": null,
   "metadata": {},
   "outputs": [],
   "source": [
    "nc.set_endpoint('http://127.0.0.1:8080')"
   ]
  },
  {
   "cell_type": "code",
   "execution_count": null,
   "metadata": {},
   "outputs": [],
   "source": [
    "import seaborn as sns\n",
    "import matplotlib.pyplot as plt\n",
    "sns.set(style=\"whitegrid\")\n",
    "\n",
    "jobs = nc.list_trial_jobs()\n",
    "job_ids = [x['id'] for x in jobs]\n",
    "final_metrics = [x['finalMetricData'][0]['data'][1:-1] if 'finalMetricData' in x.keys() else 0 for x in jobs ]\n",
    "\n",
    "data = {'job id': job_ids, 'final metrics': final_metrics}\n",
    "sns.set(rc={'figure.figsize':(15, 6)})\n",
    "\n",
    "plt.title('Trial job final results')\n",
    "ax = sns.barplot(x='job id', y='final metrics', data=data) \n",
    "\n",
    "for i,p in enumerate(ax.patches):\n",
    "    ax.annotate('{:.4f}'.format(p.get_height()), (p.get_x() + p.get_width() / 2., p.get_height()),\n",
    "                 ha='center', va='center', fontsize=11, color='black', rotation=0, xytext=(0, 5),\n",
    "                 textcoords='offset points') "
   ]
  },
  {
   "cell_type": "code",
   "execution_count": null,
   "metadata": {},
   "outputs": [],
   "source": [
    "nc.stop_nni()"
   ]
  },
  {
   "cell_type": "code",
   "execution_count": null,
   "metadata": {},
   "outputs": [],
   "source": []
  }
 ],
 "metadata": {
  "kernelspec": {
   "display_name": "Python 3",
   "language": "python",
   "name": "python3"
  },
  "language_info": {
   "codemirror_mode": {
    "name": "ipython",
    "version": 3
   },
   "file_extension": ".py",
   "mimetype": "text/x-python",
   "name": "python",
   "nbconvert_exporter": "python",
   "pygments_lexer": "ipython3",
   "version": "3.7.3"
  }
 },
 "nbformat": 4,
 "nbformat_minor": 4
}
